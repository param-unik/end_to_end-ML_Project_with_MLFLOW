{
 "cells": [
  {
   "cell_type": "code",
   "execution_count": 1,
   "id": "initial_id",
   "metadata": {
    "collapsed": true,
    "ExecuteTime": {
     "end_time": "2023-12-21T05:55:27.281782300Z",
     "start_time": "2023-12-21T05:55:27.270669300Z"
    }
   },
   "outputs": [],
   "source": [
    "import os\n",
    "os.chdir(\"../\")"
   ]
  },
  {
   "cell_type": "code",
   "execution_count": 2,
   "outputs": [
    {
     "data": {
      "text/plain": "'C:\\\\Users\\\\Param\\\\Python-Project\\\\CampusX\\\\GitHub\\\\end_to_end-ML_Project_with_MLFLOW'"
     },
     "execution_count": 2,
     "metadata": {},
     "output_type": "execute_result"
    }
   ],
   "source": [
    "%pwd"
   ],
   "metadata": {
    "collapsed": false,
    "ExecuteTime": {
     "end_time": "2023-12-21T05:55:27.289337900Z",
     "start_time": "2023-12-21T05:55:27.276777800Z"
    }
   },
   "id": "93dcf257afdd2467"
  },
  {
   "cell_type": "code",
   "execution_count": 3,
   "outputs": [],
   "source": [
    "os.environ[\"MLFLOW_TRACKING_URI\"]=\"https://dagshub.com/param-unik/end_to_end-ML_Project_with_MLFLOW.mlflow\"\n",
    "os.environ[\"MLFLOW_TRACKING_USERNAME\"]=\"param-unik\"\n",
    "os.environ[\"MLFLOW_TRACKING_PASSWORD\"]=\"3d3a1a07fbf32e2de561ef8dc2ca04e8fb341be4\""
   ],
   "metadata": {
    "collapsed": false,
    "ExecuteTime": {
     "end_time": "2023-12-21T06:08:02.038616600Z",
     "start_time": "2023-12-21T06:08:02.031548600Z"
    }
   },
   "id": "fd21420bf4e87ac6"
  },
  {
   "cell_type": "code",
   "execution_count": 4,
   "outputs": [],
   "source": [
    "from dataclasses import dataclass\n",
    "from pathlib import Path\n",
    "\n",
    "@dataclass(frozen=True)\n",
    "class ModelEvaluationConfig:\n",
    "    root_dir: Path\n",
    "    test_data_path: Path \n",
    "    model_path: Path\n",
    "    all_params: dict \n",
    "    metric_file_name: Path \n",
    "    target_column: str \n",
    "    mlflow_uri: str \n",
    "    "
   ],
   "metadata": {
    "collapsed": false,
    "ExecuteTime": {
     "end_time": "2023-12-21T06:13:52.231513800Z",
     "start_time": "2023-12-21T06:13:52.221506100Z"
    }
   },
   "id": "c0cc24a8df15b932"
  },
  {
   "cell_type": "code",
   "execution_count": 5,
   "outputs": [],
   "source": [
    "from mlProject.constants import *\n",
    "from mlProject.utils.common import read_yaml, create_directories\n",
    "\n",
    "class ConfigurationManager:\n",
    "    def __init__(self, config_filepath = CONFIG_FILE_PATH, params_file_path = PARAMS_FILE_PATH,\n",
    "                 schema_file_path = SCHEMA_FILE_PATH):\n",
    "        self.config_filepath = read_yaml(config_filepath)\n",
    "        self.params_filepath = read_yaml(params_file_path)\n",
    "        self.schema_filepath = read_yaml(schema_file_path)\n",
    "\n",
    "        create_directories([self.config_filepath.artifacts_root])\n",
    "        \n",
    "    def get_model_evaluation_config(self) -> ModelEvaluationConfig:\n",
    "        config = self.config_filepath.model_evaluation\n",
    "        params = self.params_filepath.ElasticNet\n",
    "        schema = self.schema_filepath.TARGET_COLUMNS \n",
    "        \n",
    "        create_directories([config.root_dir])\n",
    "        model_evaluation_config = ModelEvaluationConfig(\n",
    "            root_dir = config.root_dir,\n",
    "            test_data_path = config.test_data_path,\n",
    "            model_path = config.model_path,\n",
    "            all_params = params,\n",
    "            metric_file_name = config.metric_file_name,\n",
    "            target_column = schema.name,\n",
    "            mlflow_uri=\"https://dagshub.com/param-unik/end_to_end-ML_Project_with_MLFLOW.mlflow\"   \n",
    "        )\n",
    "        return model_evaluation_config\n",
    "    "
   ],
   "metadata": {
    "collapsed": false,
    "ExecuteTime": {
     "end_time": "2023-12-21T06:23:30.025662700Z",
     "start_time": "2023-12-21T06:23:29.822772100Z"
    }
   },
   "id": "9385bb4ea6190ff0"
  },
  {
   "cell_type": "code",
   "execution_count": 11,
   "outputs": [],
   "source": [
    "from mlProject.utils.common import save_json\n",
    "import os\n",
    "import pandas as pd \n",
    "from sklearn.metrics import mean_squared_error, mean_absolute_error, r2_score\n",
    "from urllib.parse import urlparse\n",
    "import mlflow\n",
    "import mlflow.sklearn\n",
    "import numpy as np\n",
    "import joblib \n",
    "\n",
    "class ModelEvaluation:\n",
    "    def __init__(self, config: ModelEvaluationConfig):\n",
    "        self.config = config\n",
    "        \n",
    "    def eval_metrics(self, actual, predicted):\n",
    "        rmse = np.sqrt(mean_squared_error(actual, predicted))\n",
    "        mae = mean_absolute_error(actual, predicted)\n",
    "        r2 = r2_score(actual, predicted)\n",
    "        \n",
    "        return rmse, mae, r2 \n",
    "    \n",
    "    def log_into_mlflow(self):\n",
    "        \n",
    "        test_data = pd.read_csv(self.config.test_data_path)\n",
    "        model = joblib.load(self.config.model_path)\n",
    "        \n",
    "        test_x = test_data.drop([self.config.target_column], axis=1)\n",
    "        test_y = test_data[self.config.target_column]\n",
    "        \n",
    "        mlflow.set_registry_uri(self.config.mlflow_uri)\n",
    "        tracking_url_type_store = urlparse(mlflow.get_tracking_uri()).scheme\n",
    "        \n",
    "        with mlflow.start_run():\n",
    "            \n",
    "            prediction = model.predict(test_x)\n",
    "            (rmse, mae, r2) = self.eval_metrics(test_y, prediction)\n",
    "            \n",
    "            scores = {'rmse': rmse, 'mae': mae, 'r2': r2}\n",
    "            save_json(path=Path(self.config.metric_file_name), data = scores)\n",
    "            \n",
    "            \n",
    "            mlflow.log_params(self.config.all_params)\n",
    "            mlflow.log_metric(\"rmse\", rmse)\n",
    "            mlflow.log_metric(\"mae\", mae)\n",
    "            mlflow.log_metric(\"r2\", r2)\n",
    "            \n",
    "            if tracking_url_type_store != \"file\":\n",
    "                mlflow.sklearn.log_model(model, \"model\", registered_model_name = \"ElasticModel\")\n",
    "            else:\n",
    "                mlflow.log_artifact(model, \"model\")"
   ],
   "metadata": {
    "collapsed": false,
    "ExecuteTime": {
     "end_time": "2023-12-21T06:48:40.472195500Z",
     "start_time": "2023-12-21T06:48:40.458197100Z"
    }
   },
   "id": "4bcdc2ce17a38b19"
  },
  {
   "cell_type": "code",
   "execution_count": 12,
   "outputs": [
    {
     "name": "stdout",
     "output_type": "stream",
     "text": [
      "[2023-12-21 12:18:40,959: INFO: common: yaml file: config\\config.yaml loaded successfully]\n",
      "[2023-12-21 12:18:40,961: INFO: common: yaml file: params.yaml loaded successfully]\n",
      "[2023-12-21 12:18:40,963: INFO: common: yaml file: schema.yaml loaded successfully]\n",
      "[2023-12-21 12:18:40,964: INFO: common: created directory at: artifacts]\n",
      "[2023-12-21 12:18:40,965: INFO: common: created directory at: artifacts/model_evaluation]\n",
      "[2023-12-21 12:18:41,499: INFO: common: json file saved at: artifacts\\model_evaluation\\metrics.json]\n"
     ]
    },
    {
     "name": "stderr",
     "output_type": "stream",
     "text": [
      "2023/12/21 12:18:45 WARNING mlflow.utils.environment: Encountered an unexpected error while inferring pip requirements (model URI: C:\\Users\\Param\\AppData\\Local\\Temp\\tmpq8n1gr0r\\model\\model.pkl, flavor: sklearn), fall back to return ['scikit-learn==1.3.2', 'cloudpickle==2.2.1']. Set logging level to DEBUG to see the full traceback.\n",
      "C:\\Users\\Param\\Python-Project\\CampusX\\GitHub\\end_to_end-ML_Project_with_MLFLOW\\venv\\lib\\site-packages\\_distutils_hack\\__init__.py:33: UserWarning: Setuptools is replacing distutils.\n",
      "  warnings.warn(\"Setuptools is replacing distutils.\")\n",
      "Successfully registered model 'ElasticModel'.\n",
      "2023/12/21 12:18:50 INFO mlflow.tracking._model_registry.client: Waiting up to 300 seconds for model version to finish creation.                     Model name: ElasticModel, version 1\n",
      "Created version '1' of model 'ElasticModel'.\n"
     ]
    }
   ],
   "source": [
    "try:\n",
    "    config_manager = ConfigurationManager()\n",
    "    model_evaluation_config = config_manager.get_model_evaluation_config()\n",
    "    model_evaluation = ModelEvaluation(config = model_evaluation_config)\n",
    "    model_evaluation.log_into_mlflow()\n",
    "except Exception as e:\n",
    "    raise e \n",
    "    "
   ],
   "metadata": {
    "collapsed": false,
    "ExecuteTime": {
     "end_time": "2023-12-21T06:48:50.521423200Z",
     "start_time": "2023-12-21T06:48:40.959614300Z"
    }
   },
   "id": "8117d5fc8a57b383"
  },
  {
   "cell_type": "code",
   "execution_count": null,
   "outputs": [],
   "source": [],
   "metadata": {
    "collapsed": false
   },
   "id": "bdc872647be75237"
  }
 ],
 "metadata": {
  "kernelspec": {
   "display_name": "Python 3",
   "language": "python",
   "name": "python3"
  },
  "language_info": {
   "codemirror_mode": {
    "name": "ipython",
    "version": 2
   },
   "file_extension": ".py",
   "mimetype": "text/x-python",
   "name": "python",
   "nbconvert_exporter": "python",
   "pygments_lexer": "ipython2",
   "version": "2.7.6"
  }
 },
 "nbformat": 4,
 "nbformat_minor": 5
}
