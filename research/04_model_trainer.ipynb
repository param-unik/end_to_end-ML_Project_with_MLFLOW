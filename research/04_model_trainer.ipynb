{
 "cells": [
  {
   "cell_type": "code",
   "execution_count": 1,
   "id": "initial_id",
   "metadata": {
    "collapsed": true,
    "ExecuteTime": {
     "end_time": "2023-12-20T18:46:51.350260900Z",
     "start_time": "2023-12-20T18:46:51.345508800Z"
    }
   },
   "outputs": [],
   "source": [
    "import os "
   ]
  },
  {
   "cell_type": "code",
   "execution_count": 2,
   "outputs": [
    {
     "data": {
      "text/plain": "'C:\\\\Users\\\\Param\\\\Python-Project\\\\CampusX\\\\GitHub\\\\end_to_end-ML_Project_with_MLFLOW\\\\research'"
     },
     "execution_count": 2,
     "metadata": {},
     "output_type": "execute_result"
    }
   ],
   "source": [
    "%pwd"
   ],
   "metadata": {
    "collapsed": false,
    "ExecuteTime": {
     "end_time": "2023-12-20T18:46:54.637066200Z",
     "start_time": "2023-12-20T18:46:54.628731300Z"
    }
   },
   "id": "41b7c2318662b7d5"
  },
  {
   "cell_type": "code",
   "execution_count": 3,
   "outputs": [],
   "source": [
    "os.chdir(\"../\")"
   ],
   "metadata": {
    "collapsed": false,
    "ExecuteTime": {
     "end_time": "2023-12-20T18:47:02.793543800Z",
     "start_time": "2023-12-20T18:47:02.782279200Z"
    }
   },
   "id": "d37be8404756bb05"
  },
  {
   "cell_type": "code",
   "execution_count": 4,
   "outputs": [
    {
     "data": {
      "text/plain": "'C:\\\\Users\\\\Param\\\\Python-Project\\\\CampusX\\\\GitHub\\\\end_to_end-ML_Project_with_MLFLOW'"
     },
     "execution_count": 4,
     "metadata": {},
     "output_type": "execute_result"
    }
   ],
   "source": [
    "%pwd"
   ],
   "metadata": {
    "collapsed": false,
    "ExecuteTime": {
     "end_time": "2023-12-20T18:47:05.844032300Z",
     "start_time": "2023-12-20T18:47:05.822324Z"
    }
   },
   "id": "7ab77b996580a4a3"
  },
  {
   "cell_type": "markdown",
   "source": [
    "## Define your Entity"
   ],
   "metadata": {
    "collapsed": false
   },
   "id": "e9e60f95112460e5"
  },
  {
   "cell_type": "code",
   "execution_count": 5,
   "outputs": [],
   "source": [
    "from dataclasses import dataclass\n",
    "from pathlib import Path\n",
    "\n",
    "@dataclass(frozen=True)\n",
    "class ModelConfig:\n",
    "    root_dir: Path\n",
    "    train_data_path: Path\n",
    "    test_data_path: Path\n",
    "    model_name: str \n",
    "    alpha: float\n",
    "    l1_ratio: float\n",
    "    target_column: str "
   ],
   "metadata": {
    "collapsed": false,
    "ExecuteTime": {
     "end_time": "2023-12-20T18:52:29.438364500Z",
     "start_time": "2023-12-20T18:52:29.424758100Z"
    }
   },
   "id": "66b955a704a7fbca"
  },
  {
   "cell_type": "code",
   "execution_count": 12,
   "outputs": [],
   "source": [
    "from mlProject.constants import *\n",
    "from mlProject.utils.common import read_yaml, create_directories\n",
    "\n",
    "class ConfigurationManager:\n",
    "    def __init__(self, config_filepath = CONFIG_FILE_PATH, params_file_path = PARAMS_FILE_PATH,\n",
    "                 schema_file_path = SCHEMA_FILE_PATH):\n",
    "        self.config_filepath = read_yaml(config_filepath)\n",
    "        self.params_filepath = read_yaml(params_file_path)\n",
    "        self.schema_filepath = read_yaml(schema_file_path)\n",
    "\n",
    "        create_directories([self.config_filepath.artifacts_root])\n",
    "        \n",
    "    def get_model_config(self) -> ModelConfig:\n",
    "        config = self.config_filepath.model_trainer\n",
    "        params = self.params_filepath.ElasticNet\n",
    "        schema = self.schema_filepath.TARGET_COLUMNS \n",
    "        \n",
    "        create_directories([config.root_dir])\n",
    "        \n",
    "        model_config = ModelConfig(\n",
    "            root_dir= config.root_dir,\n",
    "            train_data_path= config.train_data_path,\n",
    "            test_data_path= config.test_data_path,\n",
    "            model_name= config.model_name,\n",
    "            alpha= params.alpha,\n",
    "            l1_ratio= params.l1_ratio,\n",
    "            target_column=schema.name\n",
    "        )\n",
    "        \n",
    "        return model_config"
   ],
   "metadata": {
    "collapsed": false,
    "ExecuteTime": {
     "end_time": "2023-12-20T19:10:29.311867400Z",
     "start_time": "2023-12-20T19:10:29.305484900Z"
    }
   },
   "id": "93763dae8098d129"
  },
  {
   "cell_type": "code",
   "execution_count": 13,
   "outputs": [],
   "source": [
    "import pandas as pd\n",
    "import os \n",
    "from mlProject import logger\n",
    "from sklearn.linear_model import ElasticNet\n",
    "import joblib\n",
    "\n",
    "class ModelTrainer:\n",
    "    def __init__(self, config: ModelConfig):\n",
    "        self.config = config\n",
    "        \n",
    "    def train_model(self):\n",
    "        train_data =  pd.read_csv(self.config.train_data_path)\n",
    "        test_data = pd.read_csv(self.config.test_data_path)\n",
    "        \n",
    "        train_x =  train_data.drop([self.config.target_column], axis=1)\n",
    "        test_x = test_data.drop([self.config.target_column], axis=1)\n",
    "        train_y = train_data[[self.config.target_column]]\n",
    "        test_y = test_data[[self.config.target_column]]\n",
    "        \n",
    "        lr = ElasticNet(alpha=self.config.alpha, l1_ratio=self.config.l1_ratio, random_state=42)\n",
    "        lr.fit(train_x, train_y)\n",
    "        \n",
    "        joblib.dump(lr, os.path.join(self.config.root_dir, self.config.model_name))\n",
    "        "
   ],
   "metadata": {
    "collapsed": false,
    "ExecuteTime": {
     "end_time": "2023-12-20T19:10:30.000799900Z",
     "start_time": "2023-12-20T19:10:29.985227100Z"
    }
   },
   "id": "4f8344658309b831"
  },
  {
   "cell_type": "code",
   "execution_count": 14,
   "outputs": [
    {
     "name": "stdout",
     "output_type": "stream",
     "text": [
      "[2023-12-21 00:40:30,715: INFO: common: yaml file: config\\config.yaml loaded successfully]\n",
      "[2023-12-21 00:40:30,717: INFO: common: yaml file: params.yaml loaded successfully]\n",
      "[2023-12-21 00:40:30,718: INFO: common: yaml file: schema.yaml loaded successfully]\n",
      "[2023-12-21 00:40:30,719: INFO: common: created directory at: artifacts]\n",
      "[2023-12-21 00:40:30,720: INFO: common: created directory at: artifacts/model_trainer]\n"
     ]
    }
   ],
   "source": [
    "try:\n",
    "    config_manager = ConfigurationManager()\n",
    "    model_config = config_manager.get_model_config()\n",
    "    model_trainer = ModelTrainer(config=model_config)\n",
    "    model_trainer.train_model()\n",
    "except Exception as e:\n",
    "    raise e "
   ],
   "metadata": {
    "collapsed": false,
    "ExecuteTime": {
     "end_time": "2023-12-20T19:10:30.737391900Z",
     "start_time": "2023-12-20T19:10:30.714593700Z"
    }
   },
   "id": "27b49c93efd2316b"
  },
  {
   "cell_type": "code",
   "execution_count": null,
   "outputs": [],
   "source": [],
   "metadata": {
    "collapsed": false
   },
   "id": "b51aefe17fa2cc2f"
  }
 ],
 "metadata": {
  "kernelspec": {
   "display_name": "Python 3",
   "language": "python",
   "name": "python3"
  },
  "language_info": {
   "codemirror_mode": {
    "name": "ipython",
    "version": 2
   },
   "file_extension": ".py",
   "mimetype": "text/x-python",
   "name": "python",
   "nbconvert_exporter": "python",
   "pygments_lexer": "ipython2",
   "version": "2.7.6"
  }
 },
 "nbformat": 4,
 "nbformat_minor": 5
}
