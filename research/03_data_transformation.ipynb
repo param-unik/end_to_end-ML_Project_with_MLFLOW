{
 "cells": [
  {
   "cell_type": "code",
   "execution_count": 1,
   "id": "initial_id",
   "metadata": {
    "collapsed": true,
    "ExecuteTime": {
     "end_time": "2023-12-20T17:38:12.481737600Z",
     "start_time": "2023-12-20T17:38:12.475368600Z"
    }
   },
   "outputs": [],
   "source": [
    "import os"
   ]
  },
  {
   "cell_type": "code",
   "execution_count": 3,
   "outputs": [
    {
     "data": {
      "text/plain": "'C:\\\\Users\\\\Param\\\\Python-Project\\\\CampusX\\\\GitHub\\\\end_to_end-ML_Project_with_MLFLOW\\\\research'"
     },
     "execution_count": 3,
     "metadata": {},
     "output_type": "execute_result"
    }
   ],
   "source": [
    "%pwd"
   ],
   "metadata": {
    "collapsed": false,
    "ExecuteTime": {
     "end_time": "2023-12-20T17:38:23.646786100Z",
     "start_time": "2023-12-20T17:38:23.627234300Z"
    }
   },
   "id": "50c662b5c43a2bbd"
  },
  {
   "cell_type": "code",
   "execution_count": 4,
   "outputs": [],
   "source": [
    "os.chdir(\"../\")"
   ],
   "metadata": {
    "collapsed": false,
    "ExecuteTime": {
     "end_time": "2023-12-20T17:38:37.644968400Z",
     "start_time": "2023-12-20T17:38:37.638640400Z"
    }
   },
   "id": "42d3f00711d05c80"
  },
  {
   "cell_type": "code",
   "execution_count": 5,
   "outputs": [
    {
     "data": {
      "text/plain": "'C:\\\\Users\\\\Param\\\\Python-Project\\\\CampusX\\\\GitHub\\\\end_to_end-ML_Project_with_MLFLOW'"
     },
     "execution_count": 5,
     "metadata": {},
     "output_type": "execute_result"
    }
   ],
   "source": [
    "%pwd"
   ],
   "metadata": {
    "collapsed": false,
    "ExecuteTime": {
     "end_time": "2023-12-20T17:38:41.014706900Z",
     "start_time": "2023-12-20T17:38:40.991761100Z"
    }
   },
   "id": "8a2c66ddd65291be"
  },
  {
   "cell_type": "code",
   "execution_count": 19,
   "outputs": [],
   "source": [
    "from dataclasses import dataclass\n",
    "from pathlib import Path\n",
    "\n",
    "@dataclass(frozen=True)\n",
    "class DataTransformationConfig:\n",
    "    root_dir: Path \n",
    "    data_path: Path \n"
   ],
   "metadata": {
    "collapsed": false,
    "ExecuteTime": {
     "end_time": "2023-12-20T18:26:42.786323400Z",
     "start_time": "2023-12-20T18:26:42.769498300Z"
    }
   },
   "id": "6e6acd097bed0c0"
  },
  {
   "cell_type": "code",
   "execution_count": 27,
   "outputs": [],
   "source": [
    "from mlProject.constants import *\n",
    "from mlProject.utils.common import read_yaml, create_directories\n",
    "\n",
    "class ConfigurationManager:\n",
    "    def __init__(self, config_filepath = CONFIG_FILE_PATH, params_file_path = PARAMS_FILE_PATH, \n",
    "                 schema_file_path = SCHEMA_FILE_PATH):\n",
    "        self.config_filepath = read_yaml(config_filepath)\n",
    "        self.params_file_path = read_yaml(params_file_path)\n",
    "        self.schema_file_path = read_yaml(schema_file_path)\n",
    "        \n",
    "        create_directories([self.config_filepath.artifacts_root])\n",
    "        \n",
    "        \n",
    "    def get_data_transformation(self) -> DataTransformationConfig:\n",
    "        config = self.config_filepath.data_transformation\n",
    "\n",
    "        create_directories([config.root_dir])\n",
    "        \n",
    "        data_transformation_config = DataTransformationConfig(\n",
    "            root_dir = config.root_dir,\n",
    "            data_path = config.data_path\n",
    "        )\n",
    "        \n",
    "        return data_transformation_config\n",
    "    "
   ],
   "metadata": {
    "collapsed": false,
    "ExecuteTime": {
     "end_time": "2023-12-20T18:34:16.956259600Z",
     "start_time": "2023-12-20T18:34:16.947874900Z"
    }
   },
   "id": "42e95d18593391dd"
  },
  {
   "cell_type": "code",
   "execution_count": 28,
   "outputs": [],
   "source": [
    "import os\n",
    "from mlProject import logger\n",
    "from sklearn.model_selection import train_test_split\n",
    "import pandas as pd \n",
    "\n",
    "class DataTransformation:\n",
    "    def __init__(self, config: DataTransformationConfig):\n",
    "        self.config = config\n",
    "        \n",
    "    # here we can add different data transformation techniques such as Standard Scaler, MinMax \n",
    "    # Scaler, PCA, Embedding techniques such as OHE, Label encoding etc. etc.\n",
    "    # we can apply PCA, t-SNE as well and missing value treatments if required.\n",
    "    \n",
    "    # as of now, we only need train split only as data does not requiured any other \n",
    "    # transformation to get applied for now.\n",
    "    \n",
    "    def train_test_splitting(self):\n",
    "        data = pd.read_csv(self.config.data_path)\n",
    "        \n",
    "        # split the data into training and test set as 75% and 25% \n",
    "        \n",
    "        train, test = train_test_split(data, test_size=0.25, random_state=42)\n",
    "        \n",
    "        train.to_csv(os.path.join(self.config.root_dir, \"train.csv\"), index=False)\n",
    "        test.to_csv(os.path.join(self.config.root_dir, \"test.csv\"), index=False)\n",
    "        \n",
    "        logger.info(f\"Data split into train and test successfully!\")\n",
    "        logger.info(train.shape)\n",
    "        logger.info(test.shape)\n",
    "        \n",
    "        print(train.shape)\n",
    "        print(test.shape)\n",
    "        \n",
    "        \n",
    "        "
   ],
   "metadata": {
    "collapsed": false,
    "ExecuteTime": {
     "end_time": "2023-12-20T18:34:17.968878900Z",
     "start_time": "2023-12-20T18:34:17.964705Z"
    }
   },
   "id": "fa22fd111bc1a5aa"
  },
  {
   "cell_type": "code",
   "execution_count": 29,
   "outputs": [
    {
     "name": "stdout",
     "output_type": "stream",
     "text": [
      "[2023-12-21 00:04:18,720: INFO: common: yaml file: config\\config.yaml loaded successfully]\n",
      "[2023-12-21 00:04:18,721: INFO: common: yaml file: params.yaml loaded successfully]\n",
      "[2023-12-21 00:04:18,723: INFO: common: yaml file: schema.yaml loaded successfully]\n",
      "[2023-12-21 00:04:18,724: INFO: common: created directory at: artifacts]\n",
      "[2023-12-21 00:04:18,724: INFO: common: created directory at: artifacts/data_transformation]\n",
      "[2023-12-21 00:04:18,741: INFO: 560880283: Data split into train and test successfully!]\n",
      "[2023-12-21 00:04:18,742: INFO: 560880283: (1199, 12)]\n",
      "[2023-12-21 00:04:18,743: INFO: 560880283: (400, 12)]\n",
      "(1199, 12)\n",
      "(400, 12)\n"
     ]
    }
   ],
   "source": [
    "try:\n",
    "    configuration_manager = ConfigurationManager()\n",
    "    data_transformation_config = configuration_manager.get_data_transformation()\n",
    "    data_transformation = DataTransformation(config=data_transformation_config)\n",
    "    data_transformation.train_test_splitting()\n",
    "except Exception as e:\n",
    "    raise e "
   ],
   "metadata": {
    "collapsed": false,
    "ExecuteTime": {
     "end_time": "2023-12-20T18:34:18.754737Z",
     "start_time": "2023-12-20T18:34:18.719413600Z"
    }
   },
   "id": "7006a7c5d6fa7f29"
  },
  {
   "cell_type": "code",
   "execution_count": 22,
   "outputs": [],
   "source": [],
   "metadata": {
    "collapsed": false,
    "ExecuteTime": {
     "end_time": "2023-12-20T18:26:50.813593Z",
     "start_time": "2023-12-20T18:26:50.796906200Z"
    }
   },
   "id": "ff8fbefa54993cd8"
  },
  {
   "cell_type": "code",
   "execution_count": null,
   "outputs": [],
   "source": [],
   "metadata": {
    "collapsed": false
   },
   "id": "60a93cc5a9ece94a"
  }
 ],
 "metadata": {
  "kernelspec": {
   "display_name": "Python 3",
   "language": "python",
   "name": "python3"
  },
  "language_info": {
   "codemirror_mode": {
    "name": "ipython",
    "version": 2
   },
   "file_extension": ".py",
   "mimetype": "text/x-python",
   "name": "python",
   "nbconvert_exporter": "python",
   "pygments_lexer": "ipython2",
   "version": "2.7.6"
  }
 },
 "nbformat": 4,
 "nbformat_minor": 5
}
